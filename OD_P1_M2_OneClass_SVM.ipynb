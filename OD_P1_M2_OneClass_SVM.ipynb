{
 "cells": [
  {
   "cell_type": "markdown",
   "id": "7c1e360a",
   "metadata": {},
   "source": [
    "# OD - Project 1 - Milestone 2 - One Class SVM"
   ]
  },
  {
   "cell_type": "code",
   "execution_count": 1,
   "id": "cbf7589d",
   "metadata": {},
   "outputs": [],
   "source": [
    "import pandas as pd\n",
    "from scipy.io import loadmat"
   ]
  },
  {
   "cell_type": "code",
   "execution_count": 2,
   "id": "2f696382",
   "metadata": {},
   "outputs": [
    {
     "data": {
      "text/plain": [
       " 1    3679\n",
       "-1      93\n",
       "dtype: int64"
      ]
     },
     "execution_count": 2,
     "metadata": {},
     "output_type": "execute_result"
    }
   ],
   "source": [
    "data = loadmat('thyroid.mat')\n",
    "X = pd.DataFrame(data['X'])\n",
    "y = pd.Series(data['y'][:,0])"
   ]
  },
  {
   "cell_type": "code",
   "execution_count": null,
   "id": "44f1d6d6",
   "metadata": {},
   "outputs": [],
   "source": []
  },
  {
   "cell_type": "code",
   "execution_count": 3,
   "id": "f7e9270e",
   "metadata": {},
   "outputs": [
    {
     "name": "stdout",
     "output_type": "stream",
     "text": [
      "(3772, 6) (3772,)\n"
     ]
    }
   ],
   "source": [
    "print(X.shape, y.shape)"
   ]
  },
  {
   "cell_type": "code",
   "execution_count": 4,
   "id": "fe45160b",
   "metadata": {},
   "outputs": [],
   "source": [
    "from sklearn.model_selection import train_test_split\n",
    "from sklearn.svm import OneClassSVM\n",
    "from sklearn.metrics import classification_report"
   ]
  },
  {
   "cell_type": "code",
   "execution_count": 5,
   "id": "e0f66d45",
   "metadata": {},
   "outputs": [],
   "source": [
    "X_train, X_test, y_train, y_test = train_test_split(X, y, test_size=0.33, random_state=42)"
   ]
  },
  {
   "cell_type": "code",
   "execution_count": 6,
   "id": "22277c97",
   "metadata": {},
   "outputs": [],
   "source": [
    "model_1 = OneClassSVM(kernel='rbf')\n",
    "model_2 = OneClassSVM(kernel='poly', degree=2)\n",
    "model_3 = OneClassSVM(kernel='poly', degree=3)\n",
    "\n",
    "model_1.fit(X_train, y_train)\n",
    "model_2.fit(X_train, y_train)\n",
    "model_3.fit(X_train, y_train)\n",
    "\n",
    "y_pred_1 = model_1.predict(X_test)\n",
    "y_pred_2 = model_2.predict(X_test)\n",
    "y_pred_3 = model_3.predict(X_test)"
   ]
  },
  {
   "cell_type": "code",
   "execution_count": 7,
   "id": "0bfd7f12",
   "metadata": {},
   "outputs": [
    {
     "name": "stdout",
     "output_type": "stream",
     "text": [
      "OneClass SVM with RBF kernel\n",
      "\n",
      "              precision    recall  f1-score   support\n",
      "\n",
      "          -1       0.06      1.00      0.11        36\n",
      "           1       1.00      0.51      0.67      1209\n",
      "\n",
      "    accuracy                           0.52      1245\n",
      "   macro avg       0.53      0.75      0.39      1245\n",
      "weighted avg       0.97      0.52      0.66      1245\n",
      "\n",
      "\n",
      "OneClass SVM with polynomial kernel, degree 2\n",
      "\n",
      "              precision    recall  f1-score   support\n",
      "\n",
      "          -1       0.05      0.81      0.09        36\n",
      "           1       0.99      0.50      0.66      1209\n",
      "\n",
      "    accuracy                           0.51      1245\n",
      "   macro avg       0.52      0.65      0.38      1245\n",
      "weighted avg       0.96      0.51      0.65      1245\n",
      "\n",
      "\n",
      "OneClass SVM with polynomial kernel, degree 3\n",
      "\n",
      "              precision    recall  f1-score   support\n",
      "\n",
      "          -1       0.05      0.81      0.09        36\n",
      "           1       0.99      0.50      0.66      1209\n",
      "\n",
      "    accuracy                           0.51      1245\n",
      "   macro avg       0.52      0.65      0.38      1245\n",
      "weighted avg       0.96      0.51      0.65      1245\n",
      "\n"
     ]
    }
   ],
   "source": [
    "print('OneClass SVM with RBF kernel')\n",
    "print()\n",
    "print(classification_report(y_test, y_pred_1, zero_division=0))\n",
    "print()\n",
    "print('OneClass SVM with polynomial kernel, degree 2')\n",
    "print()\n",
    "print(classification_report(y_test, y_pred_2, zero_division=0))\n",
    "print()\n",
    "print('OneClass SVM with polynomial kernel, degree 3')\n",
    "print()\n",
    "print(classification_report(y_test, y_pred_3, zero_division=0))"
   ]
  },
  {
   "cell_type": "code",
   "execution_count": 11,
   "id": "30886fd3",
   "metadata": {},
   "outputs": [],
   "source": [
    "# FINIS"
   ]
  }
 ],
 "metadata": {
  "kernelspec": {
   "display_name": "Python 3",
   "language": "python",
   "name": "python3"
  },
  "language_info": {
   "codemirror_mode": {
    "name": "ipython",
    "version": 3
   },
   "file_extension": ".py",
   "mimetype": "text/x-python",
   "name": "python",
   "nbconvert_exporter": "python",
   "pygments_lexer": "ipython3",
   "version": "3.9.5"
  }
 },
 "nbformat": 4,
 "nbformat_minor": 5
}
