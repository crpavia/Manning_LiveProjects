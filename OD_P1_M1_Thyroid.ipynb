{
 "cells": [
  {
   "cell_type": "markdown",
   "id": "7c1e360a",
   "metadata": {},
   "source": [
    "# OD - Project 1 - Milestone 1 - Thyroid"
   ]
  },
  {
   "cell_type": "code",
   "execution_count": 1,
   "id": "cbf7589d",
   "metadata": {},
   "outputs": [],
   "source": [
    "import pandas as pd\n",
    "from scipy.io import loadmat"
   ]
  },
  {
   "cell_type": "code",
   "execution_count": 2,
   "id": "2f696382",
   "metadata": {},
   "outputs": [
    {
     "name": "stdout",
     "output_type": "stream",
     "text": [
      "dict_keys(['__header__', '__version__', '__globals__', 'X', 'y'])\n"
     ]
    }
   ],
   "source": [
    "data = loadmat('thyroid.mat')\n",
    "print(data.keys())"
   ]
  },
  {
   "cell_type": "code",
   "execution_count": 3,
   "id": "816ce658",
   "metadata": {},
   "outputs": [],
   "source": [
    "X = pd.DataFrame(data['X'])\n",
    "y = pd.Series(data['y'][:,0])"
   ]
  },
  {
   "cell_type": "code",
   "execution_count": 4,
   "id": "71f8b006",
   "metadata": {},
   "outputs": [
    {
     "name": "stdout",
     "output_type": "stream",
     "text": [
      "(3772, 6) (3772,)\n"
     ]
    }
   ],
   "source": [
    "print(X.shape, y.shape)"
   ]
  },
  {
   "cell_type": "code",
   "execution_count": 5,
   "id": "db5d8d36",
   "metadata": {},
   "outputs": [
    {
     "data": {
      "text/html": [
       "<div>\n",
       "<style scoped>\n",
       "    .dataframe tbody tr th:only-of-type {\n",
       "        vertical-align: middle;\n",
       "    }\n",
       "\n",
       "    .dataframe tbody tr th {\n",
       "        vertical-align: top;\n",
       "    }\n",
       "\n",
       "    .dataframe thead th {\n",
       "        text-align: right;\n",
       "    }\n",
       "</style>\n",
       "<table border=\"1\" class=\"dataframe\">\n",
       "  <thead>\n",
       "    <tr style=\"text-align: right;\">\n",
       "      <th></th>\n",
       "      <th>0</th>\n",
       "      <th>1</th>\n",
       "      <th>2</th>\n",
       "      <th>3</th>\n",
       "      <th>4</th>\n",
       "      <th>5</th>\n",
       "    </tr>\n",
       "  </thead>\n",
       "  <tbody>\n",
       "    <tr>\n",
       "      <th>0</th>\n",
       "      <td>0.774194</td>\n",
       "      <td>0.001132</td>\n",
       "      <td>0.137571</td>\n",
       "      <td>0.275701</td>\n",
       "      <td>0.295775</td>\n",
       "      <td>0.236066</td>\n",
       "    </tr>\n",
       "    <tr>\n",
       "      <th>1</th>\n",
       "      <td>0.247312</td>\n",
       "      <td>0.000472</td>\n",
       "      <td>0.279886</td>\n",
       "      <td>0.329439</td>\n",
       "      <td>0.535211</td>\n",
       "      <td>0.173770</td>\n",
       "    </tr>\n",
       "    <tr>\n",
       "      <th>2</th>\n",
       "      <td>0.494624</td>\n",
       "      <td>0.003585</td>\n",
       "      <td>0.222960</td>\n",
       "      <td>0.233645</td>\n",
       "      <td>0.525822</td>\n",
       "      <td>0.124590</td>\n",
       "    </tr>\n",
       "    <tr>\n",
       "      <th>3</th>\n",
       "      <td>0.677419</td>\n",
       "      <td>0.001698</td>\n",
       "      <td>0.156546</td>\n",
       "      <td>0.175234</td>\n",
       "      <td>0.333333</td>\n",
       "      <td>0.136066</td>\n",
       "    </tr>\n",
       "    <tr>\n",
       "      <th>4</th>\n",
       "      <td>0.236559</td>\n",
       "      <td>0.000472</td>\n",
       "      <td>0.241935</td>\n",
       "      <td>0.320093</td>\n",
       "      <td>0.333333</td>\n",
       "      <td>0.247541</td>\n",
       "    </tr>\n",
       "  </tbody>\n",
       "</table>\n",
       "</div>"
      ],
      "text/plain": [
       "          0         1         2         3         4         5\n",
       "0  0.774194  0.001132  0.137571  0.275701  0.295775  0.236066\n",
       "1  0.247312  0.000472  0.279886  0.329439  0.535211  0.173770\n",
       "2  0.494624  0.003585  0.222960  0.233645  0.525822  0.124590\n",
       "3  0.677419  0.001698  0.156546  0.175234  0.333333  0.136066\n",
       "4  0.236559  0.000472  0.241935  0.320093  0.333333  0.247541"
      ]
     },
     "execution_count": 5,
     "metadata": {},
     "output_type": "execute_result"
    }
   ],
   "source": [
    "X.head()"
   ]
  },
  {
   "cell_type": "code",
   "execution_count": 6,
   "id": "70d0dcc1",
   "metadata": {},
   "outputs": [
    {
     "data": {
      "text/plain": [
       "0    0.0\n",
       "1    0.0\n",
       "2    0.0\n",
       "3    0.0\n",
       "4    0.0\n",
       "dtype: float64"
      ]
     },
     "execution_count": 6,
     "metadata": {},
     "output_type": "execute_result"
    }
   ],
   "source": [
    "y.head()"
   ]
  },
  {
   "cell_type": "code",
   "execution_count": 7,
   "id": "5478345f",
   "metadata": {},
   "outputs": [
    {
     "data": {
      "text/plain": [
       "0.0    3679\n",
       "1.0      93\n",
       "dtype: int64"
      ]
     },
     "execution_count": 7,
     "metadata": {},
     "output_type": "execute_result"
    }
   ],
   "source": [
    "y.value_counts(dropna=False)"
   ]
  },
  {
   "cell_type": "code",
   "execution_count": 8,
   "id": "c02bc93f",
   "metadata": {},
   "outputs": [],
   "source": [
    "# END"
   ]
  },
  {
   "cell_type": "code",
   "execution_count": null,
   "id": "8de4f3e2",
   "metadata": {},
   "outputs": [],
   "source": []
  }
 ],
 "metadata": {
  "kernelspec": {
   "display_name": "Python 3",
   "language": "python",
   "name": "python3"
  },
  "language_info": {
   "codemirror_mode": {
    "name": "ipython",
    "version": 3
   },
   "file_extension": ".py",
   "mimetype": "text/x-python",
   "name": "python",
   "nbconvert_exporter": "python",
   "pygments_lexer": "ipython3",
   "version": "3.9.5"
  }
 },
 "nbformat": 4,
 "nbformat_minor": 5
}
