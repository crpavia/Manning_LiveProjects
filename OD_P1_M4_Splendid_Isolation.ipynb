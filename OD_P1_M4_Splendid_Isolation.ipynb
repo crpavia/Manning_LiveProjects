{
 "cells": [
  {
   "cell_type": "markdown",
   "id": "7c1e360a",
   "metadata": {},
   "source": [
    "# OD - Project 1 - Milestone 4"
   ]
  },
  {
   "cell_type": "code",
   "execution_count": 1,
   "id": "cbf7589d",
   "metadata": {},
   "outputs": [],
   "source": [
    "import pandas as pd\n",
    "import sklearn\n",
    "from sklearn.metrics import classification_report\n",
    "from sklearn.svm import OneClassSVM\n",
    "from sklearn.covariance import EllipticEnvelope\n",
    "from sklearn.ensemble import IsolationForest\n",
    "from scipy.io import loadmat"
   ]
  },
  {
   "cell_type": "code",
   "execution_count": 2,
   "id": "2f696382",
   "metadata": {},
   "outputs": [],
   "source": [
    "data = loadmat('thyroid.mat')\n",
    "X = pd.DataFrame(data['X'])\n",
    "y = pd.Series(data['y'][:,0])\n",
    "y = y.map({0:1, 1:-1})"
   ]
  },
  {
   "cell_type": "code",
   "execution_count": 3,
   "id": "f7e9270e",
   "metadata": {},
   "outputs": [
    {
     "name": "stdout",
     "output_type": "stream",
     "text": [
      "(3772, 6) (3772,)\n"
     ]
    }
   ],
   "source": [
    "print(X.shape, y.shape)"
   ]
  },
  {
   "cell_type": "code",
   "execution_count": 4,
   "id": "7ad7c776",
   "metadata": {},
   "outputs": [
    {
     "name": "stdout",
     "output_type": "stream",
     "text": [
      " 1    3679\n",
      "-1      93\n",
      "dtype: int64\n"
     ]
    }
   ],
   "source": [
    "print(y.value_counts())"
   ]
  },
  {
   "cell_type": "code",
   "execution_count": 5,
   "id": "2e50139d",
   "metadata": {},
   "outputs": [
    {
     "name": "stdout",
     "output_type": "stream",
     "text": [
      " 1    0.975345\n",
      "-1    0.024655\n",
      "dtype: float64\n"
     ]
    }
   ],
   "source": [
    "print(y.value_counts(normalize=True))"
   ]
  },
  {
   "cell_type": "code",
   "execution_count": 6,
   "id": "a55e033d",
   "metadata": {},
   "outputs": [],
   "source": [
    "outliers_fraction=0.1"
   ]
  },
  {
   "cell_type": "code",
   "execution_count": 7,
   "id": "37594413",
   "metadata": {},
   "outputs": [],
   "source": [
    "anomaly_algorithms = [\n",
    "    (\"One-Class SVM RBF\", OneClassSVM(nu=outliers_fraction, kernel=\"rbf\")),\n",
    "    (\"One-Class SVM degree 2\", OneClassSVM(nu=outliers_fraction, kernel=\"poly\", degree=2)),\n",
    "    (\"One-Class SVM degree 3\", OneClassSVM(nu=outliers_fraction, kernel=\"poly\", degree=2)),\n",
    "    (\"Robust Covariance\", EllipticEnvelope(contamination=outliers_fraction)),\n",
    "    (\"Isolation Forest, 50 trees\", IsolationForest(contamination=outliers_fraction, n_estimators=50)),\n",
    "    (\"Isolation Forest, 100 trees\", IsolationForest(contamination=outliers_fraction, n_estimators=100)),\n",
    "    (\"Isolation Forest, 200 trees\", IsolationForest(contamination=outliers_fraction, n_estimators=200)),\n",
    "]"
   ]
  },
  {
   "cell_type": "code",
   "execution_count": 8,
   "id": "543a26f3",
   "metadata": {},
   "outputs": [
    {
     "name": "stdout",
     "output_type": "stream",
     "text": [
      "*******************************************************\n",
      "One-Class SVM RBF\n",
      "\n",
      "              precision    recall  f1-score   support\n",
      "\n",
      "          -1       0.17      0.68      0.27        93\n",
      "           1       0.99      0.91      0.95      3679\n",
      "\n",
      "    accuracy                           0.91      3772\n",
      "   macro avg       0.58      0.80      0.61      3772\n",
      "weighted avg       0.97      0.91      0.93      3772\n",
      "\n",
      "*******************************************************\n",
      "One-Class SVM degree 2\n",
      "\n",
      "              precision    recall  f1-score   support\n",
      "\n",
      "          -1       0.08      0.33      0.13        93\n",
      "           1       0.98      0.91      0.94      3679\n",
      "\n",
      "    accuracy                           0.89      3772\n",
      "   macro avg       0.53      0.62      0.54      3772\n",
      "weighted avg       0.96      0.89      0.92      3772\n",
      "\n",
      "*******************************************************\n",
      "One-Class SVM degree 3\n",
      "\n",
      "              precision    recall  f1-score   support\n",
      "\n",
      "          -1       0.08      0.33      0.13        93\n",
      "           1       0.98      0.91      0.94      3679\n",
      "\n",
      "    accuracy                           0.89      3772\n",
      "   macro avg       0.53      0.62      0.54      3772\n",
      "weighted avg       0.96      0.89      0.92      3772\n",
      "\n",
      "*******************************************************\n",
      "Robust Covariance\n",
      "\n",
      "              precision    recall  f1-score   support\n",
      "\n",
      "          -1       0.24      0.96      0.38        93\n",
      "           1       1.00      0.92      0.96      3679\n",
      "\n",
      "    accuracy                           0.92      3772\n",
      "   macro avg       0.62      0.94      0.67      3772\n",
      "weighted avg       0.98      0.92      0.94      3772\n",
      "\n",
      "*******************************************************\n",
      "Isolation Forest, 50 trees\n",
      "\n",
      "              precision    recall  f1-score   support\n",
      "\n",
      "          -1       0.23      0.92      0.37        93\n",
      "           1       1.00      0.92      0.96      3679\n",
      "\n",
      "    accuracy                           0.92      3772\n",
      "   macro avg       0.61      0.92      0.66      3772\n",
      "weighted avg       0.98      0.92      0.94      3772\n",
      "\n",
      "*******************************************************\n",
      "Isolation Forest, 100 trees\n",
      "\n",
      "              precision    recall  f1-score   support\n",
      "\n",
      "          -1       0.23      0.92      0.37        93\n",
      "           1       1.00      0.92      0.96      3679\n",
      "\n",
      "    accuracy                           0.92      3772\n",
      "   macro avg       0.61      0.92      0.66      3772\n",
      "weighted avg       0.98      0.92      0.94      3772\n",
      "\n",
      "*******************************************************\n",
      "Isolation Forest, 200 trees\n",
      "\n",
      "              precision    recall  f1-score   support\n",
      "\n",
      "          -1       0.23      0.95      0.37        93\n",
      "           1       1.00      0.92      0.96      3679\n",
      "\n",
      "    accuracy                           0.92      3772\n",
      "   macro avg       0.62      0.93      0.67      3772\n",
      "weighted avg       0.98      0.92      0.94      3772\n",
      "\n"
     ]
    }
   ],
   "source": [
    "for name, algo in anomaly_algorithms:\n",
    "    print('*' * 55)\n",
    "    print(name)\n",
    "    print()\n",
    "    y_pred = algo.fit_predict(X)\n",
    "    print(classification_report(y, y_pred))"
   ]
  },
  {
   "cell_type": "code",
   "execution_count": 9,
   "id": "30886fd3",
   "metadata": {},
   "outputs": [],
   "source": [
    "# END"
   ]
  },
  {
   "cell_type": "code",
   "execution_count": null,
   "id": "b2f7eb3f",
   "metadata": {},
   "outputs": [],
   "source": []
  }
 ],
 "metadata": {
  "kernelspec": {
   "display_name": "Python 3",
   "language": "python",
   "name": "python3"
  },
  "language_info": {
   "codemirror_mode": {
    "name": "ipython",
    "version": 3
   },
   "file_extension": ".py",
   "mimetype": "text/x-python",
   "name": "python",
   "nbconvert_exporter": "python",
   "pygments_lexer": "ipython3",
   "version": "3.9.5"
  }
 },
 "nbformat": 4,
 "nbformat_minor": 5
}
