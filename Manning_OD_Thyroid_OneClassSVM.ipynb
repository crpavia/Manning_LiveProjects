{
 "cells": [
  {
   "cell_type": "markdown",
   "id": "7c1e360a",
   "metadata": {},
   "source": [
    "# Manning - OD - Thyroid - One Class SVM"
   ]
  },
  {
   "cell_type": "code",
   "execution_count": 31,
   "id": "cbf7589d",
   "metadata": {},
   "outputs": [],
   "source": [
    "import pandas as pd\n",
    "from scipy.io import loadmat"
   ]
  },
  {
   "cell_type": "code",
   "execution_count": 32,
   "id": "2f696382",
   "metadata": {},
   "outputs": [],
   "source": [
    "data = loadmat('thyroid.mat')\n",
    "X = pd.DataFrame(data['X'])\n",
    "y = pd.Series(data['y'][:,0])"
   ]
  },
  {
   "cell_type": "code",
   "execution_count": 33,
   "id": "d70f1551",
   "metadata": {},
   "outputs": [
    {
     "name": "stdout",
     "output_type": "stream",
     "text": [
      "(3772, 6) (3772,)\n"
     ]
    }
   ],
   "source": [
    "print(X.shape, y.shape)"
   ]
  },
  {
   "cell_type": "code",
   "execution_count": 34,
   "id": "f17fd1bb",
   "metadata": {},
   "outputs": [],
   "source": [
    "from sklearn.svm import OneClassSVM\n",
    "from sklearn.model_selection import train_test_split\n",
    "from sklearn.metrics import classification_report"
   ]
  },
  {
   "cell_type": "code",
   "execution_count": 65,
   "id": "57e02afc",
   "metadata": {},
   "outputs": [],
   "source": [
    "X_train, X_test, y_train, y_test = train_test_split(X, y, test_size=0.33, random_state=42)"
   ]
  },
  {
   "cell_type": "code",
   "execution_count": 66,
   "id": "22277c97",
   "metadata": {},
   "outputs": [],
   "source": [
    "model_1 = OneClassSVM(kernel='rbf')\n",
    "model_2 = OneClassSVM(kernel='poly', degree=2)\n",
    "model_3 = OneClassSVM(kernel='poly', degree=3)\n",
    "\n",
    "model_1.fit(X_train, y_train)\n",
    "model_2.fit(X_train, y_train)\n",
    "model_3.fit(X_train, y_train)\n",
    "\n",
    "y_pred_1 = model_1.predict(X_test)\n",
    "y_pred_2 = model_2.predict(X_test)\n",
    "y_pred_3 = model_3.predict(X_test)"
   ]
  },
  {
   "cell_type": "code",
   "execution_count": 67,
   "id": "b928c61a",
   "metadata": {},
   "outputs": [
    {
     "name": "stdout",
     "output_type": "stream",
     "text": [
      "              precision    recall  f1-score   support\n",
      "\n",
      "        -1.0       0.00      0.00      0.00       0.0\n",
      "         0.0       0.00      0.00      0.00    1209.0\n",
      "         1.0       0.00      0.00      0.00      36.0\n",
      "\n",
      "    accuracy                           0.00    1245.0\n",
      "   macro avg       0.00      0.00      0.00    1245.0\n",
      "weighted avg       0.00      0.00      0.00    1245.0\n",
      "\n"
     ]
    }
   ],
   "source": [
    "print(classification_report(y_test, y_pred_1, zero_division=0))"
   ]
  },
  {
   "cell_type": "code",
   "execution_count": 68,
   "id": "d0d930aa",
   "metadata": {},
   "outputs": [
    {
     "name": "stdout",
     "output_type": "stream",
     "text": [
      "              precision    recall  f1-score   support\n",
      "\n",
      "        -1.0       0.00      0.00      0.00         0\n",
      "         0.0       0.00      0.00      0.00      1209\n",
      "         1.0       0.01      0.19      0.02        36\n",
      "\n",
      "    accuracy                           0.01      1245\n",
      "   macro avg       0.00      0.06      0.01      1245\n",
      "weighted avg       0.00      0.01      0.00      1245\n",
      "\n"
     ]
    }
   ],
   "source": [
    "print(classification_report(y_test, y_pred_2, zero_division=0))"
   ]
  },
  {
   "cell_type": "code",
   "execution_count": 69,
   "id": "621e64d2",
   "metadata": {
    "scrolled": true
   },
   "outputs": [
    {
     "name": "stdout",
     "output_type": "stream",
     "text": [
      "              precision    recall  f1-score   support\n",
      "\n",
      "        -1.0       0.00      0.00      0.00         0\n",
      "         0.0       0.00      0.00      0.00      1209\n",
      "         1.0       0.01      0.19      0.02        36\n",
      "\n",
      "    accuracy                           0.01      1245\n",
      "   macro avg       0.00      0.06      0.01      1245\n",
      "weighted avg       0.00      0.01      0.00      1245\n",
      "\n"
     ]
    }
   ],
   "source": [
    "print(classification_report(y_test, y_pred_3, zero_division=0))"
   ]
  },
  {
   "cell_type": "code",
   "execution_count": 57,
   "id": "533d9e09",
   "metadata": {},
   "outputs": [
    {
     "name": "stdout",
     "output_type": "stream",
     "text": [
      "              precision    recall  f1-score   support\n",
      "\n",
      "        -1.0       0.00      0.00      0.00         0\n",
      "         0.0       0.00      0.00      0.00      3679\n",
      "         1.0       0.00      0.02      0.00        93\n",
      "\n",
      "    accuracy                           0.00      3772\n",
      "   macro avg       0.00      0.01      0.00      3772\n",
      "weighted avg       0.00      0.00      0.00      3772\n",
      "\n"
     ]
    }
   ],
   "source": [
    "modelo = OneClassSVM(kernel='rbf')\n",
    "modelo.fit(X,y)\n",
    "y_pred = modelo.predict(X)\n",
    "print(classification_report(y, y_pred, zero_division=0))"
   ]
  },
  {
   "cell_type": "code",
   "execution_count": 58,
   "id": "5ac32bad",
   "metadata": {},
   "outputs": [
    {
     "name": "stdout",
     "output_type": "stream",
     "text": [
      "              precision    recall  f1-score   support\n",
      "\n",
      "        -1.0       0.00      0.00      0.00         0\n",
      "         0.0       0.00      0.00      0.00      3679\n",
      "         1.0       0.01      0.15      0.01        93\n",
      "\n",
      "    accuracy                           0.00      3772\n",
      "   macro avg       0.00      0.05      0.00      3772\n",
      "weighted avg       0.00      0.00      0.00      3772\n",
      "\n"
     ]
    }
   ],
   "source": [
    "modelo = OneClassSVM(kernel='poly', degree=2)\n",
    "modelo.fit(X,y)\n",
    "y_pred = modelo.predict(X)\n",
    "print(classification_report(y, y_pred, zero_division=0))"
   ]
  },
  {
   "cell_type": "code",
   "execution_count": 59,
   "id": "66b793d3",
   "metadata": {},
   "outputs": [
    {
     "name": "stdout",
     "output_type": "stream",
     "text": [
      "              precision    recall  f1-score   support\n",
      "\n",
      "        -1.0       0.00      0.00      0.00         0\n",
      "         0.0       0.00      0.00      0.00      3679\n",
      "         1.0       0.01      0.17      0.02        93\n",
      "\n",
      "    accuracy                           0.00      3772\n",
      "   macro avg       0.00      0.06      0.01      3772\n",
      "weighted avg       0.00      0.00      0.00      3772\n",
      "\n"
     ]
    }
   ],
   "source": [
    "modelo = OneClassSVM(kernel='poly', degree=3)\n",
    "modelo.fit(X,y)\n",
    "y_pred = modelo.predict(X)\n",
    "print(classification_report(y, y_pred, zero_division=0))"
   ]
  },
  {
   "cell_type": "code",
   "execution_count": null,
   "id": "5980a790",
   "metadata": {},
   "outputs": [],
   "source": []
  }
 ],
 "metadata": {
  "kernelspec": {
   "display_name": "Python 3",
   "language": "python",
   "name": "python3"
  },
  "language_info": {
   "codemirror_mode": {
    "name": "ipython",
    "version": 3
   },
   "file_extension": ".py",
   "mimetype": "text/x-python",
   "name": "python",
   "nbconvert_exporter": "python",
   "pygments_lexer": "ipython3",
   "version": "3.9.5"
  }
 },
 "nbformat": 4,
 "nbformat_minor": 5
}
